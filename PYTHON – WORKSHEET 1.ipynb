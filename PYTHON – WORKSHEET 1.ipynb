{
 "cells": [
  {
   "cell_type": "code",
   "execution_count": 8,
   "id": "116c77d1",
   "metadata": {},
   "outputs": [
    {
     "name": "stdout",
     "output_type": "stream",
     "text": [
      "Enter any number2\n",
      "The fractional of the number is = 3\n"
     ]
    }
   ],
   "source": [
    "a=int(input(\"Enter any number\"))\n",
    "f=1\n",
    "for i in range(1, a+1):\n",
    "    f=f+1\n",
    "print(\"The fractional of the number is =\", f)\n"
   ]
  },
  {
   "cell_type": "code",
   "execution_count": 9,
   "id": "99013eb8",
   "metadata": {},
   "outputs": [
    {
     "name": "stdout",
     "output_type": "stream",
     "text": [
      "Enter any number4\n",
      "4  => Composite number\n"
     ]
    }
   ],
   "source": [
    "a=int(input(\"Enter any number\"))\n",
    "if a==0 or a==1:\n",
    "    print(a,\"=> Neither Prime nor Composite number\")\n",
    "else:\n",
    "    for i in range (2, a):\n",
    "        if(a % i==0):\n",
    "            print(a,\" => Composite number\")\n",
    "            break\n",
    "        else:\n",
    "            print(a,\"=> Prime number\")"
   ]
  },
  {
   "cell_type": "code",
   "execution_count": 5,
   "id": "ca54335f",
   "metadata": {},
   "outputs": [
    {
     "name": "stdout",
     "output_type": "stream",
     "text": [
      "Enter stringRADAR\n",
      "The string is a palindrome\n"
     ]
    }
   ],
   "source": [
    "my_string=input(\"Enter string\")\n",
    "if(my_string==my_string[::-1]):\n",
    "   print(\"The string is a palindrome\")\n",
    "else:\n",
    "   print(\"The string isn't a palindrome\")"
   ]
  },
  {
   "cell_type": "code",
   "execution_count": 6,
   "id": "a614a212",
   "metadata": {},
   "outputs": [
    {
     "name": "stdout",
     "output_type": "stream",
     "text": [
      "Enter first side of triangle => 3\n",
      "Enter second side of triangle => 6\n",
      "Enter third side of triangle => 9\n",
      "Triangle is Not Right Angled\n"
     ]
    }
   ],
   "source": [
    "a = float(input(\"Enter first side of triangle => \"))\n",
    "b = float(input(\"Enter second side of triangle => \"))\n",
    "c = float(input(\"Enter third side of triangle => \"))\n",
    "\n",
    "if (a >= b) and (a >= c):\n",
    "    largest_triangle_side = a\n",
    "elif (b >= c) and (b >= a):\n",
    "    largest_triangle_side = b\n",
    "else:\n",
    "    largest_triangle_side = c\n",
    "\n",
    "if (largest_triangle_side == a):\n",
    "    if (b**2 + c**2 == a**2):\n",
    "        print(\"Triangle is Right Angled\")\n",
    "    else:\n",
    "        print(\"Triangle is Not Right Angled\")\n",
    "\n",
    "if(largest_triangle_side == b):\n",
    "    if(c**2 + a**2 == b**2):\n",
    "        print(\"Triangle is Right Angled\")\n",
    "    else:\n",
    "        print(\"Triangle is Not Right Angled\")\n",
    "\n",
    "if(largest_triangle_side == c):\n",
    "    if(a**2 + b**2 == c**2):\n",
    "        print(\"Triangle is Right Angled\")\n",
    "    else:\n",
    "        print(\"Triangle is Not Right Angled\")"
   ]
  },
  {
   "cell_type": "code",
   "execution_count": 7,
   "id": "8b0d1d5e",
   "metadata": {},
   "outputs": [
    {
     "name": "stdout",
     "output_type": "stream",
     "text": [
      "Enter the string python\n",
      "Character and their frequency\n",
      "p=1\n",
      "y=1\n",
      "t=1\n",
      "h=1\n",
      "o=1\n",
      "n=1\n"
     ]
    }
   ],
   "source": [
    "string=input(\"Enter the string \")\n",
    "freq=[None]*len(string)\n",
    "for i in range(0,len(string)):\n",
    "    freq[i]=1\n",
    "    \n",
    "for j in range(i+1,len(string)):\n",
    "    if(string[i]==string[j]):\n",
    "        freq[i]=freq[i]+1\n",
    "        string=string[:j]+'0'+string[j+1:];\n",
    "print(\"Character and their frequency\");\n",
    "\n",
    "for i in range(0,len(freq)):\n",
    "    if(string[i]!=' ' and string[i]!='0'):\n",
    "        print(string[i]+\"=\"+str(freq[i]))"
   ]
  },
  {
   "cell_type": "code",
   "execution_count": null,
   "id": "bf60209a",
   "metadata": {},
   "outputs": [],
   "source": []
  }
 ],
 "metadata": {
  "kernelspec": {
   "display_name": "Python 3 (ipykernel)",
   "language": "python",
   "name": "python3"
  },
  "language_info": {
   "codemirror_mode": {
    "name": "ipython",
    "version": 3
   },
   "file_extension": ".py",
   "mimetype": "text/x-python",
   "name": "python",
   "nbconvert_exporter": "python",
   "pygments_lexer": "ipython3",
   "version": "3.9.7"
  }
 },
 "nbformat": 4,
 "nbformat_minor": 5
}
